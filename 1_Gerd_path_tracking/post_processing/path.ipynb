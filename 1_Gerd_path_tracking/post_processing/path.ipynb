{
 "cells": [
  {
   "cell_type": "code",
   "execution_count": 12,
   "metadata": {},
   "outputs": [],
   "source": [
    "import numpy as np\n",
    "from matplotlib import pyplot as plt\n",
    "import pandas as pd"
   ]
  },
  {
   "cell_type": "code",
   "execution_count": 13,
   "metadata": {},
   "outputs": [
    {
     "data": {
      "text/html": [
       "<div>\n",
       "<style scoped>\n",
       "    .dataframe tbody tr th:only-of-type {\n",
       "        vertical-align: middle;\n",
       "    }\n",
       "\n",
       "    .dataframe tbody tr th {\n",
       "        vertical-align: top;\n",
       "    }\n",
       "\n",
       "    .dataframe thead th {\n",
       "        text-align: right;\n",
       "    }\n",
       "</style>\n",
       "<table border=\"1\" class=\"dataframe\">\n",
       "  <thead>\n",
       "    <tr style=\"text-align: right;\">\n",
       "      <th></th>\n",
       "      <th>time / s</th>\n",
       "      <th>distance / mm</th>\n",
       "      <th>angle / °</th>\n",
       "      <th>part</th>\n",
       "      <th>Δx</th>\n",
       "      <th>Δy</th>\n",
       "      <th>x</th>\n",
       "      <th>y</th>\n",
       "    </tr>\n",
       "  </thead>\n",
       "  <tbody>\n",
       "    <tr>\n",
       "      <th>0</th>\n",
       "      <td>10.937</td>\n",
       "      <td>741</td>\n",
       "      <td>0</td>\n",
       "      <td>741.0</td>\n",
       "      <td>-0.000000</td>\n",
       "      <td>741.000000</td>\n",
       "      <td>-0.000000</td>\n",
       "      <td>741.000000</td>\n",
       "    </tr>\n",
       "    <tr>\n",
       "      <th>1</th>\n",
       "      <td>29.738</td>\n",
       "      <td>2010</td>\n",
       "      <td>157</td>\n",
       "      <td>1269.0</td>\n",
       "      <td>495.837802</td>\n",
       "      <td>-1168.120659</td>\n",
       "      <td>495.837802</td>\n",
       "      <td>-427.120659</td>\n",
       "    </tr>\n",
       "    <tr>\n",
       "      <th>2</th>\n",
       "      <td>39.206</td>\n",
       "      <td>2396</td>\n",
       "      <td>263</td>\n",
       "      <td>386.0</td>\n",
       "      <td>-383.122815</td>\n",
       "      <td>-47.041567</td>\n",
       "      <td>112.714988</td>\n",
       "      <td>-474.162226</td>\n",
       "    </tr>\n",
       "    <tr>\n",
       "      <th>3</th>\n",
       "      <td>45.006</td>\n",
       "      <td>2475</td>\n",
       "      <td>316</td>\n",
       "      <td>79.0</td>\n",
       "      <td>-54.878011</td>\n",
       "      <td>56.827844</td>\n",
       "      <td>57.836976</td>\n",
       "      <td>-417.334381</td>\n",
       "    </tr>\n",
       "    <tr>\n",
       "      <th>4</th>\n",
       "      <td>47.820</td>\n",
       "      <td>2425</td>\n",
       "      <td>363</td>\n",
       "      <td>-50.0</td>\n",
       "      <td>-2.616798</td>\n",
       "      <td>-49.931477</td>\n",
       "      <td>55.220178</td>\n",
       "      <td>-467.265858</td>\n",
       "    </tr>\n",
       "    <tr>\n",
       "      <th>5</th>\n",
       "      <td>55.587</td>\n",
       "      <td>2586</td>\n",
       "      <td>524</td>\n",
       "      <td>161.0</td>\n",
       "      <td>44.377614</td>\n",
       "      <td>-154.763133</td>\n",
       "      <td>99.597793</td>\n",
       "      <td>-622.028991</td>\n",
       "    </tr>\n",
       "  </tbody>\n",
       "</table>\n",
       "</div>"
      ],
      "text/plain": [
       "   time / s   distance / mm   angle / °    part          Δx           Δy   \n",
       "0    10.937             741           0   741.0   -0.000000   741.000000  \\\n",
       "1    29.738            2010         157  1269.0  495.837802 -1168.120659   \n",
       "2    39.206            2396         263   386.0 -383.122815   -47.041567   \n",
       "3    45.006            2475         316    79.0  -54.878011    56.827844   \n",
       "4    47.820            2425         363   -50.0   -2.616798   -49.931477   \n",
       "5    55.587            2586         524   161.0   44.377614  -154.763133   \n",
       "\n",
       "            x           y  \n",
       "0   -0.000000  741.000000  \n",
       "1  495.837802 -427.120659  \n",
       "2  112.714988 -474.162226  \n",
       "3   57.836976 -417.334381  \n",
       "4   55.220178 -467.265858  \n",
       "5   99.597793 -622.028991  "
      ]
     },
     "execution_count": 13,
     "metadata": {},
     "output_type": "execute_result"
    }
   ],
   "source": [
    "df = pd.read_csv('path.csv')\n",
    "\n",
    "df['part'] = df[' distance / mm'].diff()\n",
    "df.loc[0,'part'] = df.loc[0, ' distance / mm']\n",
    "\n",
    "df['Δx'] = - df['part'] * np.sin(- df[' angle / °'] * np.pi/180)\n",
    "df['Δy'] =   df['part'] * np.cos(- df[' angle / °'] * np.pi/180)\n",
    "\n",
    "df['x'] = df['Δx'].cumsum()\n",
    "df['y'] = df['Δy'].cumsum()\n",
    "\n",
    "df"
   ]
  },
  {
   "cell_type": "code",
   "execution_count": 14,
   "metadata": {},
   "outputs": [
    {
     "data": {
      "text/plain": [
       "(-24.791890102644444, 520.6296921555333, -690.1804406997069, 809.1514495571289)"
      ]
     },
     "execution_count": 14,
     "metadata": {},
     "output_type": "execute_result"
    },
    {
     "data": {
      "image/png": "[encoded data removed]",
      "text/plain": [
       "<Figure size 640x480 with 1 Axes>"
      ]
     },
     "metadata": {},
     "output_type": "display_data"
    }
   ],
   "source": [
    "plt.plot(df['x'],df['y'])\n",
    "plt.axis('equal')"
   ]
  }
 ],
 "metadata": {
  "kernelspec": {
   "display_name": "Python 3",
   "language": "python",
   "name": "python3"
  },
  "language_info": {
   "codemirror_mode": {
    "name": "ipython",
    "version": 3
   },
   "file_extension": ".py",
   "mimetype": "text/x-python",
   "name": "python",
   "nbconvert_exporter": "python",
   "pygments_lexer": "ipython3",
   "version": "3.11.2"
  },
  "orig_nbformat": 4
 },
 "nbformat": 4,
 "nbformat_minor": 2
}
